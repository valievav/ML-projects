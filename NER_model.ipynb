{
  "nbformat": 4,
  "nbformat_minor": 0,
  "metadata": {
    "colab": {
      "provenance": [],
      "authorship_tag": "ABX9TyP4IOLCHAn3tap/6QeT3lv5",
      "include_colab_link": true
    },
    "kernelspec": {
      "name": "python3",
      "display_name": "Python 3"
    },
    "language_info": {
      "name": "python"
    }
  },
  "cells": [
    {
      "cell_type": "markdown",
      "metadata": {
        "id": "view-in-github",
        "colab_type": "text"
      },
      "source": [
        "<a href=\"https://colab.research.google.com/github/valievav/ML-projects/blob/main/NER_model.ipynb\" target=\"_parent\"><img src=\"https://colab.research.google.com/assets/colab-badge.svg\" alt=\"Open In Colab\"/></a>"
      ]
    },
    {
      "cell_type": "code",
      "execution_count": 1,
      "metadata": {
        "colab": {
          "base_uri": "https://localhost:8080/"
        },
        "id": "j1ZJQO-WN-bl",
        "outputId": "c37e9629-3ab3-4e33-9465-e37ba656c76a"
      },
      "outputs": [
        {
          "output_type": "stream",
          "name": "stdout",
          "text": [
            "Requirement already satisfied: spacy in /usr/local/lib/python3.11/dist-packages (3.7.5)\n",
            "Requirement already satisfied: spacy-legacy<3.1.0,>=3.0.11 in /usr/local/lib/python3.11/dist-packages (from spacy) (3.0.12)\n",
            "Requirement already satisfied: spacy-loggers<2.0.0,>=1.0.0 in /usr/local/lib/python3.11/dist-packages (from spacy) (1.0.5)\n",
            "Requirement already satisfied: murmurhash<1.1.0,>=0.28.0 in /usr/local/lib/python3.11/dist-packages (from spacy) (1.0.12)\n",
            "Requirement already satisfied: cymem<2.1.0,>=2.0.2 in /usr/local/lib/python3.11/dist-packages (from spacy) (2.0.11)\n",
            "Requirement already satisfied: preshed<3.1.0,>=3.0.2 in /usr/local/lib/python3.11/dist-packages (from spacy) (3.0.9)\n",
            "Requirement already satisfied: thinc<8.3.0,>=8.2.2 in /usr/local/lib/python3.11/dist-packages (from spacy) (8.2.5)\n",
            "Requirement already satisfied: wasabi<1.2.0,>=0.9.1 in /usr/local/lib/python3.11/dist-packages (from spacy) (1.1.3)\n",
            "Requirement already satisfied: srsly<3.0.0,>=2.4.3 in /usr/local/lib/python3.11/dist-packages (from spacy) (2.5.1)\n",
            "Requirement already satisfied: catalogue<2.1.0,>=2.0.6 in /usr/local/lib/python3.11/dist-packages (from spacy) (2.0.10)\n",
            "Requirement already satisfied: weasel<0.5.0,>=0.1.0 in /usr/local/lib/python3.11/dist-packages (from spacy) (0.4.1)\n",
            "Requirement already satisfied: typer<1.0.0,>=0.3.0 in /usr/local/lib/python3.11/dist-packages (from spacy) (0.15.1)\n",
            "Requirement already satisfied: tqdm<5.0.0,>=4.38.0 in /usr/local/lib/python3.11/dist-packages (from spacy) (4.67.1)\n",
            "Requirement already satisfied: requests<3.0.0,>=2.13.0 in /usr/local/lib/python3.11/dist-packages (from spacy) (2.32.3)\n",
            "Requirement already satisfied: pydantic!=1.8,!=1.8.1,<3.0.0,>=1.7.4 in /usr/local/lib/python3.11/dist-packages (from spacy) (2.10.6)\n",
            "Requirement already satisfied: jinja2 in /usr/local/lib/python3.11/dist-packages (from spacy) (3.1.5)\n",
            "Requirement already satisfied: setuptools in /usr/local/lib/python3.11/dist-packages (from spacy) (75.1.0)\n",
            "Requirement already satisfied: packaging>=20.0 in /usr/local/lib/python3.11/dist-packages (from spacy) (24.2)\n",
            "Requirement already satisfied: langcodes<4.0.0,>=3.2.0 in /usr/local/lib/python3.11/dist-packages (from spacy) (3.5.0)\n",
            "Requirement already satisfied: numpy>=1.19.0 in /usr/local/lib/python3.11/dist-packages (from spacy) (1.26.4)\n",
            "Requirement already satisfied: language-data>=1.2 in /usr/local/lib/python3.11/dist-packages (from langcodes<4.0.0,>=3.2.0->spacy) (1.3.0)\n",
            "Requirement already satisfied: annotated-types>=0.6.0 in /usr/local/lib/python3.11/dist-packages (from pydantic!=1.8,!=1.8.1,<3.0.0,>=1.7.4->spacy) (0.7.0)\n",
            "Requirement already satisfied: pydantic-core==2.27.2 in /usr/local/lib/python3.11/dist-packages (from pydantic!=1.8,!=1.8.1,<3.0.0,>=1.7.4->spacy) (2.27.2)\n",
            "Requirement already satisfied: typing-extensions>=4.12.2 in /usr/local/lib/python3.11/dist-packages (from pydantic!=1.8,!=1.8.1,<3.0.0,>=1.7.4->spacy) (4.12.2)\n",
            "Requirement already satisfied: charset-normalizer<4,>=2 in /usr/local/lib/python3.11/dist-packages (from requests<3.0.0,>=2.13.0->spacy) (3.4.1)\n",
            "Requirement already satisfied: idna<4,>=2.5 in /usr/local/lib/python3.11/dist-packages (from requests<3.0.0,>=2.13.0->spacy) (3.10)\n",
            "Requirement already satisfied: urllib3<3,>=1.21.1 in /usr/local/lib/python3.11/dist-packages (from requests<3.0.0,>=2.13.0->spacy) (2.3.0)\n",
            "Requirement already satisfied: certifi>=2017.4.17 in /usr/local/lib/python3.11/dist-packages (from requests<3.0.0,>=2.13.0->spacy) (2025.1.31)\n",
            "Requirement already satisfied: blis<0.8.0,>=0.7.8 in /usr/local/lib/python3.11/dist-packages (from thinc<8.3.0,>=8.2.2->spacy) (0.7.11)\n",
            "Requirement already satisfied: confection<1.0.0,>=0.0.1 in /usr/local/lib/python3.11/dist-packages (from thinc<8.3.0,>=8.2.2->spacy) (0.1.5)\n",
            "Requirement already satisfied: click>=8.0.0 in /usr/local/lib/python3.11/dist-packages (from typer<1.0.0,>=0.3.0->spacy) (8.1.8)\n",
            "Requirement already satisfied: shellingham>=1.3.0 in /usr/local/lib/python3.11/dist-packages (from typer<1.0.0,>=0.3.0->spacy) (1.5.4)\n",
            "Requirement already satisfied: rich>=10.11.0 in /usr/local/lib/python3.11/dist-packages (from typer<1.0.0,>=0.3.0->spacy) (13.9.4)\n",
            "Requirement already satisfied: cloudpathlib<1.0.0,>=0.7.0 in /usr/local/lib/python3.11/dist-packages (from weasel<0.5.0,>=0.1.0->spacy) (0.20.0)\n",
            "Requirement already satisfied: smart-open<8.0.0,>=5.2.1 in /usr/local/lib/python3.11/dist-packages (from weasel<0.5.0,>=0.1.0->spacy) (7.1.0)\n",
            "Requirement already satisfied: MarkupSafe>=2.0 in /usr/local/lib/python3.11/dist-packages (from jinja2->spacy) (3.0.2)\n",
            "Requirement already satisfied: marisa-trie>=1.1.0 in /usr/local/lib/python3.11/dist-packages (from language-data>=1.2->langcodes<4.0.0,>=3.2.0->spacy) (1.2.1)\n",
            "Requirement already satisfied: markdown-it-py>=2.2.0 in /usr/local/lib/python3.11/dist-packages (from rich>=10.11.0->typer<1.0.0,>=0.3.0->spacy) (3.0.0)\n",
            "Requirement already satisfied: pygments<3.0.0,>=2.13.0 in /usr/local/lib/python3.11/dist-packages (from rich>=10.11.0->typer<1.0.0,>=0.3.0->spacy) (2.18.0)\n",
            "Requirement already satisfied: wrapt in /usr/local/lib/python3.11/dist-packages (from smart-open<8.0.0,>=5.2.1->weasel<0.5.0,>=0.1.0->spacy) (1.17.2)\n",
            "Requirement already satisfied: mdurl~=0.1 in /usr/local/lib/python3.11/dist-packages (from markdown-it-py>=2.2.0->rich>=10.11.0->typer<1.0.0,>=0.3.0->spacy) (0.1.2)\n"
          ]
        }
      ],
      "source": [
        "!pip install spacy"
      ]
    },
    {
      "cell_type": "code",
      "source": [
        "# download model\n",
        "!python -m spacy download en_core_web_md"
      ],
      "metadata": {
        "colab": {
          "base_uri": "https://localhost:8080/"
        },
        "id": "n9ZA7rDSX8H6",
        "outputId": "b3872f8b-29e9-42fd-e82d-8aa4fdfb3468"
      },
      "execution_count": 2,
      "outputs": [
        {
          "output_type": "stream",
          "name": "stdout",
          "text": [
            "Collecting en-core-web-md==3.7.1\n",
            "  Downloading https://github.com/explosion/spacy-models/releases/download/en_core_web_md-3.7.1/en_core_web_md-3.7.1-py3-none-any.whl (42.8 MB)\n",
            "\u001b[2K     \u001b[90m━━━━━━━━━━━━━━━━━━━━━━━━━━━━━━━━━━━━━━━━\u001b[0m \u001b[32m42.8/42.8 MB\u001b[0m \u001b[31m11.7 MB/s\u001b[0m eta \u001b[36m0:00:00\u001b[0m\n",
            "\u001b[?25hRequirement already satisfied: spacy<3.8.0,>=3.7.2 in /usr/local/lib/python3.11/dist-packages (from en-core-web-md==3.7.1) (3.7.5)\n",
            "Requirement already satisfied: spacy-legacy<3.1.0,>=3.0.11 in /usr/local/lib/python3.11/dist-packages (from spacy<3.8.0,>=3.7.2->en-core-web-md==3.7.1) (3.0.12)\n",
            "Requirement already satisfied: spacy-loggers<2.0.0,>=1.0.0 in /usr/local/lib/python3.11/dist-packages (from spacy<3.8.0,>=3.7.2->en-core-web-md==3.7.1) (1.0.5)\n",
            "Requirement already satisfied: murmurhash<1.1.0,>=0.28.0 in /usr/local/lib/python3.11/dist-packages (from spacy<3.8.0,>=3.7.2->en-core-web-md==3.7.1) (1.0.12)\n",
            "Requirement already satisfied: cymem<2.1.0,>=2.0.2 in /usr/local/lib/python3.11/dist-packages (from spacy<3.8.0,>=3.7.2->en-core-web-md==3.7.1) (2.0.11)\n",
            "Requirement already satisfied: preshed<3.1.0,>=3.0.2 in /usr/local/lib/python3.11/dist-packages (from spacy<3.8.0,>=3.7.2->en-core-web-md==3.7.1) (3.0.9)\n",
            "Requirement already satisfied: thinc<8.3.0,>=8.2.2 in /usr/local/lib/python3.11/dist-packages (from spacy<3.8.0,>=3.7.2->en-core-web-md==3.7.1) (8.2.5)\n",
            "Requirement already satisfied: wasabi<1.2.0,>=0.9.1 in /usr/local/lib/python3.11/dist-packages (from spacy<3.8.0,>=3.7.2->en-core-web-md==3.7.1) (1.1.3)\n",
            "Requirement already satisfied: srsly<3.0.0,>=2.4.3 in /usr/local/lib/python3.11/dist-packages (from spacy<3.8.0,>=3.7.2->en-core-web-md==3.7.1) (2.5.1)\n",
            "Requirement already satisfied: catalogue<2.1.0,>=2.0.6 in /usr/local/lib/python3.11/dist-packages (from spacy<3.8.0,>=3.7.2->en-core-web-md==3.7.1) (2.0.10)\n",
            "Requirement already satisfied: weasel<0.5.0,>=0.1.0 in /usr/local/lib/python3.11/dist-packages (from spacy<3.8.0,>=3.7.2->en-core-web-md==3.7.1) (0.4.1)\n",
            "Requirement already satisfied: typer<1.0.0,>=0.3.0 in /usr/local/lib/python3.11/dist-packages (from spacy<3.8.0,>=3.7.2->en-core-web-md==3.7.1) (0.15.1)\n",
            "Requirement already satisfied: tqdm<5.0.0,>=4.38.0 in /usr/local/lib/python3.11/dist-packages (from spacy<3.8.0,>=3.7.2->en-core-web-md==3.7.1) (4.67.1)\n",
            "Requirement already satisfied: requests<3.0.0,>=2.13.0 in /usr/local/lib/python3.11/dist-packages (from spacy<3.8.0,>=3.7.2->en-core-web-md==3.7.1) (2.32.3)\n",
            "Requirement already satisfied: pydantic!=1.8,!=1.8.1,<3.0.0,>=1.7.4 in /usr/local/lib/python3.11/dist-packages (from spacy<3.8.0,>=3.7.2->en-core-web-md==3.7.1) (2.10.6)\n",
            "Requirement already satisfied: jinja2 in /usr/local/lib/python3.11/dist-packages (from spacy<3.8.0,>=3.7.2->en-core-web-md==3.7.1) (3.1.5)\n",
            "Requirement already satisfied: setuptools in /usr/local/lib/python3.11/dist-packages (from spacy<3.8.0,>=3.7.2->en-core-web-md==3.7.1) (75.1.0)\n",
            "Requirement already satisfied: packaging>=20.0 in /usr/local/lib/python3.11/dist-packages (from spacy<3.8.0,>=3.7.2->en-core-web-md==3.7.1) (24.2)\n",
            "Requirement already satisfied: langcodes<4.0.0,>=3.2.0 in /usr/local/lib/python3.11/dist-packages (from spacy<3.8.0,>=3.7.2->en-core-web-md==3.7.1) (3.5.0)\n",
            "Requirement already satisfied: numpy>=1.19.0 in /usr/local/lib/python3.11/dist-packages (from spacy<3.8.0,>=3.7.2->en-core-web-md==3.7.1) (1.26.4)\n",
            "Requirement already satisfied: language-data>=1.2 in /usr/local/lib/python3.11/dist-packages (from langcodes<4.0.0,>=3.2.0->spacy<3.8.0,>=3.7.2->en-core-web-md==3.7.1) (1.3.0)\n",
            "Requirement already satisfied: annotated-types>=0.6.0 in /usr/local/lib/python3.11/dist-packages (from pydantic!=1.8,!=1.8.1,<3.0.0,>=1.7.4->spacy<3.8.0,>=3.7.2->en-core-web-md==3.7.1) (0.7.0)\n",
            "Requirement already satisfied: pydantic-core==2.27.2 in /usr/local/lib/python3.11/dist-packages (from pydantic!=1.8,!=1.8.1,<3.0.0,>=1.7.4->spacy<3.8.0,>=3.7.2->en-core-web-md==3.7.1) (2.27.2)\n",
            "Requirement already satisfied: typing-extensions>=4.12.2 in /usr/local/lib/python3.11/dist-packages (from pydantic!=1.8,!=1.8.1,<3.0.0,>=1.7.4->spacy<3.8.0,>=3.7.2->en-core-web-md==3.7.1) (4.12.2)\n",
            "Requirement already satisfied: charset-normalizer<4,>=2 in /usr/local/lib/python3.11/dist-packages (from requests<3.0.0,>=2.13.0->spacy<3.8.0,>=3.7.2->en-core-web-md==3.7.1) (3.4.1)\n",
            "Requirement already satisfied: idna<4,>=2.5 in /usr/local/lib/python3.11/dist-packages (from requests<3.0.0,>=2.13.0->spacy<3.8.0,>=3.7.2->en-core-web-md==3.7.1) (3.10)\n",
            "Requirement already satisfied: urllib3<3,>=1.21.1 in /usr/local/lib/python3.11/dist-packages (from requests<3.0.0,>=2.13.0->spacy<3.8.0,>=3.7.2->en-core-web-md==3.7.1) (2.3.0)\n",
            "Requirement already satisfied: certifi>=2017.4.17 in /usr/local/lib/python3.11/dist-packages (from requests<3.0.0,>=2.13.0->spacy<3.8.0,>=3.7.2->en-core-web-md==3.7.1) (2025.1.31)\n",
            "Requirement already satisfied: blis<0.8.0,>=0.7.8 in /usr/local/lib/python3.11/dist-packages (from thinc<8.3.0,>=8.2.2->spacy<3.8.0,>=3.7.2->en-core-web-md==3.7.1) (0.7.11)\n",
            "Requirement already satisfied: confection<1.0.0,>=0.0.1 in /usr/local/lib/python3.11/dist-packages (from thinc<8.3.0,>=8.2.2->spacy<3.8.0,>=3.7.2->en-core-web-md==3.7.1) (0.1.5)\n",
            "Requirement already satisfied: click>=8.0.0 in /usr/local/lib/python3.11/dist-packages (from typer<1.0.0,>=0.3.0->spacy<3.8.0,>=3.7.2->en-core-web-md==3.7.1) (8.1.8)\n",
            "Requirement already satisfied: shellingham>=1.3.0 in /usr/local/lib/python3.11/dist-packages (from typer<1.0.0,>=0.3.0->spacy<3.8.0,>=3.7.2->en-core-web-md==3.7.1) (1.5.4)\n",
            "Requirement already satisfied: rich>=10.11.0 in /usr/local/lib/python3.11/dist-packages (from typer<1.0.0,>=0.3.0->spacy<3.8.0,>=3.7.2->en-core-web-md==3.7.1) (13.9.4)\n",
            "Requirement already satisfied: cloudpathlib<1.0.0,>=0.7.0 in /usr/local/lib/python3.11/dist-packages (from weasel<0.5.0,>=0.1.0->spacy<3.8.0,>=3.7.2->en-core-web-md==3.7.1) (0.20.0)\n",
            "Requirement already satisfied: smart-open<8.0.0,>=5.2.1 in /usr/local/lib/python3.11/dist-packages (from weasel<0.5.0,>=0.1.0->spacy<3.8.0,>=3.7.2->en-core-web-md==3.7.1) (7.1.0)\n",
            "Requirement already satisfied: MarkupSafe>=2.0 in /usr/local/lib/python3.11/dist-packages (from jinja2->spacy<3.8.0,>=3.7.2->en-core-web-md==3.7.1) (3.0.2)\n",
            "Requirement already satisfied: marisa-trie>=1.1.0 in /usr/local/lib/python3.11/dist-packages (from language-data>=1.2->langcodes<4.0.0,>=3.2.0->spacy<3.8.0,>=3.7.2->en-core-web-md==3.7.1) (1.2.1)\n",
            "Requirement already satisfied: markdown-it-py>=2.2.0 in /usr/local/lib/python3.11/dist-packages (from rich>=10.11.0->typer<1.0.0,>=0.3.0->spacy<3.8.0,>=3.7.2->en-core-web-md==3.7.1) (3.0.0)\n",
            "Requirement already satisfied: pygments<3.0.0,>=2.13.0 in /usr/local/lib/python3.11/dist-packages (from rich>=10.11.0->typer<1.0.0,>=0.3.0->spacy<3.8.0,>=3.7.2->en-core-web-md==3.7.1) (2.18.0)\n",
            "Requirement already satisfied: wrapt in /usr/local/lib/python3.11/dist-packages (from smart-open<8.0.0,>=5.2.1->weasel<0.5.0,>=0.1.0->spacy<3.8.0,>=3.7.2->en-core-web-md==3.7.1) (1.17.2)\n",
            "Requirement already satisfied: mdurl~=0.1 in /usr/local/lib/python3.11/dist-packages (from markdown-it-py>=2.2.0->rich>=10.11.0->typer<1.0.0,>=0.3.0->spacy<3.8.0,>=3.7.2->en-core-web-md==3.7.1) (0.1.2)\n",
            "\u001b[38;5;2m✔ Download and installation successful\u001b[0m\n",
            "You can now load the package via spacy.load('en_core_web_md')\n",
            "\u001b[38;5;3m⚠ Restart to reload dependencies\u001b[0m\n",
            "If you are in a Jupyter or Colab notebook, you may need to restart Python in\n",
            "order to load all the package's dependencies. You can do this by selecting the\n",
            "'Restart kernel' or 'Restart runtime' option.\n"
          ]
        }
      ]
    },
    {
      "cell_type": "code",
      "source": [
        "!pip install spacy-lookups-data"
      ],
      "metadata": {
        "colab": {
          "base_uri": "https://localhost:8080/"
        },
        "id": "B1UviWE9jisc",
        "outputId": "90bba75d-de74-4542-e22f-00df850568b1"
      },
      "execution_count": 3,
      "outputs": [
        {
          "output_type": "stream",
          "name": "stdout",
          "text": [
            "Requirement already satisfied: spacy-lookups-data in /usr/local/lib/python3.11/dist-packages (1.0.5)\n",
            "Requirement already satisfied: setuptools in /usr/local/lib/python3.11/dist-packages (from spacy-lookups-data) (75.1.0)\n"
          ]
        }
      ]
    },
    {
      "cell_type": "code",
      "source": [
        "# JIz-hiRrZ2g&t=18s\n",
        "\n",
        "import spacy"
      ],
      "metadata": {
        "id": "giVJNLU_bYn9"
      },
      "execution_count": 4,
      "outputs": []
    },
    {
      "cell_type": "code",
      "source": [
        "# use existing model\n",
        "nlp = spacy.load('en_core_web_md')\n",
        "\n",
        "# get entities that can be recognized\n",
        "ner_labels = nlp.get_pipe('ner').labels\n",
        "[(x, spacy.explain(x)) for x in ner_labels]"
      ],
      "metadata": {
        "colab": {
          "base_uri": "https://localhost:8080/"
        },
        "id": "AMJEI5SrOCmu",
        "outputId": "3ff2cd89-8e7e-4796-b9c8-71cf089bcd59"
      },
      "execution_count": 5,
      "outputs": [
        {
          "output_type": "execute_result",
          "data": {
            "text/plain": [
              "[('CARDINAL', 'Numerals that do not fall under another type'),\n",
              " ('DATE', 'Absolute or relative dates or periods'),\n",
              " ('EVENT', 'Named hurricanes, battles, wars, sports events, etc.'),\n",
              " ('FAC', 'Buildings, airports, highways, bridges, etc.'),\n",
              " ('GPE', 'Countries, cities, states'),\n",
              " ('LANGUAGE', 'Any named language'),\n",
              " ('LAW', 'Named documents made into laws.'),\n",
              " ('LOC', 'Non-GPE locations, mountain ranges, bodies of water'),\n",
              " ('MONEY', 'Monetary values, including unit'),\n",
              " ('NORP', 'Nationalities or religious or political groups'),\n",
              " ('ORDINAL', '\"first\", \"second\", etc.'),\n",
              " ('ORG', 'Companies, agencies, institutions, etc.'),\n",
              " ('PERCENT', 'Percentage, including \"%\"'),\n",
              " ('PERSON', 'People, including fictional'),\n",
              " ('PRODUCT', 'Objects, vehicles, foods, etc. (not services)'),\n",
              " ('QUANTITY', 'Measurements, as of weight or distance'),\n",
              " ('TIME', 'Times smaller than a day'),\n",
              " ('WORK_OF_ART', 'Titles of books, songs, etc.')]"
            ]
          },
          "metadata": {},
          "execution_count": 5
        }
      ]
    },
    {
      "cell_type": "markdown",
      "source": [
        "# Check NER model results on 1 sentence\n"
      ],
      "metadata": {
        "id": "Ot2KS4hsgmWi"
      }
    },
    {
      "cell_type": "code",
      "source": [
        "# recognizing entitites for 1 sentence\n",
        "doc = nlp('Brandon lives in New York from winter 2005, but 30% of time he spends in California.')\n",
        "\n",
        "for ent in doc.ents:\n",
        "  print(ent.text, '|', ent.label_)"
      ],
      "metadata": {
        "colab": {
          "base_uri": "https://localhost:8080/"
        },
        "id": "I7LFFXROWRdj",
        "outputId": "9132feea-96de-4f49-d28b-a7a31abc1634"
      },
      "execution_count": 6,
      "outputs": [
        {
          "output_type": "stream",
          "name": "stdout",
          "text": [
            "Brandon | PERSON\n",
            "New York | GPE\n",
            "winter 2005 | DATE\n",
            "30% | PERCENT\n",
            "California | GPE\n"
          ]
        }
      ]
    },
    {
      "cell_type": "code",
      "source": [
        "# better visual representation\n",
        "from spacy import displacy\n",
        "\n",
        "displacy.render(doc, style='ent')"
      ],
      "metadata": {
        "colab": {
          "base_uri": "https://localhost:8080/",
          "height": 52
        },
        "id": "hIF1O0x4U7K9",
        "outputId": "6d6dc176-ed63-4273-e016-c1e78f587ded"
      },
      "execution_count": 7,
      "outputs": [
        {
          "output_type": "display_data",
          "data": {
            "text/plain": [
              "<IPython.core.display.HTML object>"
            ],
            "text/html": [
              "<span class=\"tex2jax_ignore\"><div class=\"entities\" style=\"line-height: 2.5; direction: ltr\">\n",
              "<mark class=\"entity\" style=\"background: #aa9cfc; padding: 0.45em 0.6em; margin: 0 0.25em; line-height: 1; border-radius: 0.35em;\">\n",
              "    Brandon\n",
              "    <span style=\"font-size: 0.8em; font-weight: bold; line-height: 1; border-radius: 0.35em; vertical-align: middle; margin-left: 0.5rem\">PERSON</span>\n",
              "</mark>\n",
              " lives in \n",
              "<mark class=\"entity\" style=\"background: #feca74; padding: 0.45em 0.6em; margin: 0 0.25em; line-height: 1; border-radius: 0.35em;\">\n",
              "    New York\n",
              "    <span style=\"font-size: 0.8em; font-weight: bold; line-height: 1; border-radius: 0.35em; vertical-align: middle; margin-left: 0.5rem\">GPE</span>\n",
              "</mark>\n",
              " from \n",
              "<mark class=\"entity\" style=\"background: #bfe1d9; padding: 0.45em 0.6em; margin: 0 0.25em; line-height: 1; border-radius: 0.35em;\">\n",
              "    winter 2005\n",
              "    <span style=\"font-size: 0.8em; font-weight: bold; line-height: 1; border-radius: 0.35em; vertical-align: middle; margin-left: 0.5rem\">DATE</span>\n",
              "</mark>\n",
              ", but \n",
              "<mark class=\"entity\" style=\"background: #e4e7d2; padding: 0.45em 0.6em; margin: 0 0.25em; line-height: 1; border-radius: 0.35em;\">\n",
              "    30%\n",
              "    <span style=\"font-size: 0.8em; font-weight: bold; line-height: 1; border-radius: 0.35em; vertical-align: middle; margin-left: 0.5rem\">PERCENT</span>\n",
              "</mark>\n",
              " of time he spends in \n",
              "<mark class=\"entity\" style=\"background: #feca74; padding: 0.45em 0.6em; margin: 0 0.25em; line-height: 1; border-radius: 0.35em;\">\n",
              "    California\n",
              "    <span style=\"font-size: 0.8em; font-weight: bold; line-height: 1; border-radius: 0.35em; vertical-align: middle; margin-left: 0.5rem\">GPE</span>\n",
              "</mark>\n",
              ".</div></span>"
            ]
          },
          "metadata": {}
        }
      ]
    },
    {
      "cell_type": "markdown",
      "source": [
        "# Check NER model results on test data"
      ],
      "metadata": {
        "id": "zdYcOxmEXOwY"
      }
    },
    {
      "cell_type": "code",
      "source": [
        "text = [\n",
        "    'Nessa lives in Kyiv',\n",
        "    'Chris Cornell was part of the Soundgarden before Audioslave',\n",
        "    'Sakura blossoms in Japan in spring',\n",
        "    'OpenAI released CharGPT Pro version in December 2024',\n",
        "    'Lia speaks both Ukrainian and English',\n",
        "    'R2D2 can only communicate in Binary',\n",
        "]\n",
        "\n",
        "# prepare sentences\n",
        "docs = [nlp(x) for x in text]\n",
        "docs"
      ],
      "metadata": {
        "colab": {
          "base_uri": "https://localhost:8080/"
        },
        "id": "U4AaTAUZTmY8",
        "outputId": "924220bb-af81-4cba-fdba-bfca13c918ef"
      },
      "execution_count": 8,
      "outputs": [
        {
          "output_type": "execute_result",
          "data": {
            "text/plain": [
              "[Nessa lives in Kyiv,\n",
              " Chris Cornell was part of the Soundgarden before Audioslave,\n",
              " Sakura blossoms in Japan in spring,\n",
              " OpenAI released CharGPT Pro version in December 2024,\n",
              " Lia speaks both Ukrainian and English,\n",
              " R2D2 can only communicate in Binary]"
            ]
          },
          "metadata": {},
          "execution_count": 8
        }
      ]
    },
    {
      "cell_type": "code",
      "source": [
        "docs[0].ents"
      ],
      "metadata": {
        "colab": {
          "base_uri": "https://localhost:8080/"
        },
        "id": "Uldt34gbUO4v",
        "outputId": "8c4ef512-8e8c-4679-d48b-53a7710af790"
      },
      "execution_count": 9,
      "outputs": [
        {
          "output_type": "execute_result",
          "data": {
            "text/plain": [
              "(Nessa, Kyiv)"
            ]
          },
          "metadata": {},
          "execution_count": 9
        }
      ]
    },
    {
      "cell_type": "code",
      "source": [
        "# go over sentences to detect entities\n",
        "for doc in docs:\n",
        "  entities = []\n",
        "  for ent in doc.ents:\n",
        "    entities.append([ent.text, ent.label_])\n",
        "\n",
        "  print(entities)\n"
      ],
      "metadata": {
        "colab": {
          "base_uri": "https://localhost:8080/"
        },
        "id": "jreEGmc3YteX",
        "outputId": "f7457edf-2a81-4df1-db3e-e670ed0f456e"
      },
      "execution_count": 10,
      "outputs": [
        {
          "output_type": "stream",
          "name": "stdout",
          "text": [
            "[['Nessa', 'PERSON'], ['Kyiv', 'GPE']]\n",
            "[['Chris Cornell', 'PERSON'], ['the Soundgarden before Audioslave', 'GPE']]\n",
            "[['Sakura', 'PERSON'], ['Japan', 'GPE'], ['spring', 'DATE']]\n",
            "[['CharGPT Pro', 'PRODUCT'], ['December 2024', 'DATE']]\n",
            "[['Lia', 'PERSON'], ['Ukrainian', 'NORP'], ['English', 'LANGUAGE']]\n",
            "[]\n"
          ]
        }
      ]
    },
    {
      "cell_type": "markdown",
      "source": [
        "# Set entities manually for model"
      ],
      "metadata": {
        "id": "rzlOA5azhCFG"
      }
    },
    {
      "cell_type": "code",
      "source": [
        "text = 'Tesla produces cars'\n",
        "doc = nlp(text)\n",
        "\n",
        "for entity in doc.ents:\n",
        "  print(f'{entity.text} | {entity.label_}')\n",
        "\n",
        "# as we see, Tesla is NOT recognized as company"
      ],
      "metadata": {
        "id": "5eJP_iVRhHKy"
      },
      "execution_count": 29,
      "outputs": []
    },
    {
      "cell_type": "code",
      "source": [
        "from spacy.tokens import Span\n",
        "\n",
        "s = Span(doc, 0, 1, label='ORG')\n",
        "\n",
        "doc.set_ents([s], default='unmodified')\n",
        "\n",
        "for entity in doc.ents:\n",
        "  print(f'{entity.text} | {entity.label_}')\n",
        "\n",
        "# now Tesla is detected!"
      ],
      "metadata": {
        "colab": {
          "base_uri": "https://localhost:8080/"
        },
        "id": "GPT2zVQIhoVJ",
        "outputId": "bc2691f6-4a64-4e85-fc2f-fd398be57e44"
      },
      "execution_count": 31,
      "outputs": [
        {
          "output_type": "stream",
          "name": "stdout",
          "text": [
            "Tesla | ORG\n"
          ]
        }
      ]
    },
    {
      "cell_type": "markdown",
      "source": [
        "# Fine-tune existing NER model on custom data"
      ],
      "metadata": {
        "id": "nzGl-fJ7gefy"
      }
    },
    {
      "cell_type": "code",
      "source": [
        "import random\n",
        "from spacy.util import minibatch\n",
        "from spacy.training.example import Example\n",
        "\n",
        "train_data = [\n",
        "    ('What is the price of 10 bananas?', {'entities': [(21, 23, 'QUANTITY'), (24, 31, 'PRODUCT')]}),\n",
        "    ('How much does 5 apples cost?', {'entities': [(15, 16, 'QUANTITY'), (17, 23, 'PRODUCT')]}),\n",
        "    ('Can you tell me the price of 2 oranges?', {'entities': [(29, 30, 'QUANTITY'), (31, 38, 'PRODUCT')]}),\n",
        "    ('I want to buy 1 watermelon. How much is it?', {'entities': [(14, 15, 'QUANTITY'), (16, 26, 'PRODUCT')]}),\n",
        "    ('What would 3 pineapples cost?', {'entities': [(11, 12, 'QUANTITY'), (13, 23, 'PRODUCT')]}),\n",
        "    ('Give me the price for 12 mangoes.', {'entities': [(21, 23, 'QUANTITY'), (24, 31, 'PRODUCT')]}),\n",
        "    ('How much for 8 avocados?', {'entities': [(13, 14, 'QUANTITY'), (15, 23, 'PRODUCT')]}),\n",
        "    ('I need the cost of 6 lemons.', {'entities': [(19, 20, 'QUANTITY'), (21, 27, 'PRODUCT')]}),\n",
        "    ('Could you tell me how much 4 pears are?', {'entities': [(26, 27, 'QUANTITY'), (28, 33, 'PRODUCT')]}),\n",
        "    ('Price check on 7 strawberries please.', {'entities': [(14, 15, 'QUANTITY'), (16, 28, 'PRODUCT')]}),\n",
        "    ('How much would 9 peaches be?', {'entities': [(15, 16, 'QUANTITY'), (17, 24, 'PRODUCT')]}),\n",
        "    ('What’s the rate of 11 grapes?', {'entities': [(19, 21, 'QUANTITY'), (22, 28, 'PRODUCT')]}),\n",
        "    ('Can I know the price of 3 cherries?', {'entities': [(25, 26, 'QUANTITY'), (27, 35, 'PRODUCT')]}),\n",
        "    ('How expensive are 13 blueberries?', {'entities': [(18, 20, 'QUANTITY'), (21, 32, 'PRODUCT')]}),\n",
        "    ('Do you know the cost of 2 melons?', {'entities': [(24, 25, 'QUANTITY'), (26, 32, 'PRODUCT')]}),\n",
        "    ('Please tell me the price of 5 plums.', {'entities': [(28, 29, 'QUANTITY'), (30, 35, 'PRODUCT')]}),\n",
        "    ('How much is 14 kiwis?', {'entities': [(12, 14, 'QUANTITY'), (15, 20, 'PRODUCT')]}),\n",
        "    ('What’s the total for 6 papayas?', {'entities': [(18, 19, 'QUANTITY'), (20, 27, 'PRODUCT')]}),\n",
        "    ('I’d like the price of 1 coconut.', {'entities': [(22, 23, 'QUANTITY'), (24, 31, 'PRODUCT')]}),\n",
        "    ('Tell me how much 10 apricots cost.', {'entities': [(18, 20, 'QUANTITY'), (21, 29, 'PRODUCT')]}),\n",
        "]\n",
        "\n",
        "nlp.pipe_names"
      ],
      "metadata": {
        "colab": {
          "base_uri": "https://localhost:8080/"
        },
        "id": "Ny-27YZhYOi1",
        "outputId": "02a81f23-ea7c-4085-b3f2-cc620ae0f8fd"
      },
      "execution_count": 11,
      "outputs": [
        {
          "output_type": "execute_result",
          "data": {
            "text/plain": [
              "['tok2vec', 'tagger', 'parser', 'attribute_ruler', 'lemmatizer', 'ner']"
            ]
          },
          "metadata": {},
          "execution_count": 11
        }
      ]
    },
    {
      "cell_type": "code",
      "source": [
        "# use existing model\n",
        "nlp = spacy.load('en_core_web_md')\n",
        "\n",
        "# make sure ner pipeline is in the model\n",
        "if 'ner' not in nlp.pipe_names:\n",
        "  ner = nlp.add_pipe('ner')\n",
        "else:\n",
        "  ner = nlp.get_pipe('ner')\n",
        "\n",
        "# add unknown labels to the model if we have custom labels in train_data\n",
        "for _, ent_data in train_data:\n",
        "  for ent in ent_data['entities']:\n",
        "    label = ent[2]\n",
        "    if label not in ner.labels:\n",
        "      ner.add_label[label]\n",
        "\n",
        "# disable all pipelines but ner and train it\n",
        "epochs = 10\n",
        "other_pipes = [pipe for pipe in nlp.pipe_names if pipe != 'ner']\n",
        "\n",
        "with nlp.disable_pipes(*other_pipes):\n",
        "  # optimizer = nlp.begin_training()  # training a new blank model\n",
        "  optimizer = nlp.create_optimizer()  # fine-tuning already trained model\n",
        "\n",
        "  for epoch in range(epochs):\n",
        "    random.shuffle(train_data)\n",
        "    losses = {}\n",
        "    batches = minibatch(train_data, size=2)\n",
        "    for batch in batches:\n",
        "      examples = []\n",
        "      for text, ent_data in batch:\n",
        "        doc = nlp.make_doc(text)\n",
        "        example = Example.from_dict(doc, ent_data)\n",
        "        examples.append(example)\n",
        "      nlp.update(examples, drop=0.5, losses=losses)\n",
        "    print(f'Epoch {epoch + 1}, losses {losses}')\n",
        "\n",
        "# save model\n",
        "nlp.to_disk('custom_ner_model')\n"
      ],
      "metadata": {
        "colab": {
          "base_uri": "https://localhost:8080/"
        },
        "id": "dU6M2L5sdj8p",
        "outputId": "dcdf9c78-c4cc-4901-bb7e-844ceb8e0ff9"
      },
      "execution_count": 15,
      "outputs": [
        {
          "output_type": "stream",
          "name": "stdout",
          "text": [
            "Epoch 1, losses {'ner': 41.80614490384065}\n",
            "Epoch 2, losses {'ner': 32.538554708986034}\n",
            "Epoch 3, losses {'ner': 18.27130108387208}\n",
            "Epoch 4, losses {'ner': 9.793648728328542}\n",
            "Epoch 5, losses {'ner': 11.861971547995141}\n",
            "Epoch 6, losses {'ner': 3.3624804931924586}\n",
            "Epoch 7, losses {'ner': 3.302883366902693}\n",
            "Epoch 8, losses {'ner': 2.712555937008553}\n",
            "Epoch 9, losses {'ner': 3.1505966742694804}\n",
            "Epoch 10, losses {'ner': 5.2233721887111075}\n"
          ]
        }
      ]
    },
    {
      "cell_type": "code",
      "source": [
        "trained_nlp = spacy.load('custom_ner_model')\n",
        "\n",
        "test_text = [\n",
        "    'How much for five avocados?',\n",
        "    'Ten candies please, what''s the price?',\n",
        "    'I''m intereseted in 5 granola bars, how much is it?',\n",
        "]\n",
        "\n",
        "for text in test_text:\n",
        "  doc = trained_nlp(text)\n",
        "  print(f'TEXT: {text}')\n",
        "  print(f'ENTITIES: {[(ent.text, ent.label_) for ent in doc.ents]}\\n')"
      ],
      "metadata": {
        "colab": {
          "base_uri": "https://localhost:8080/"
        },
        "id": "uwP-M9RmX5VL",
        "outputId": "6034e5d3-866f-4694-ce25-c4e7a5d93f89"
      },
      "execution_count": 23,
      "outputs": [
        {
          "output_type": "stream",
          "name": "stdout",
          "text": [
            "TEXT: How much for five avocados?\n",
            "ENTITIES: [('five', 'QUANTITY'), ('avocados', 'PRODUCT')]\n",
            "\n",
            "TEXT: Ten candies please, whats the price?\n",
            "ENTITIES: [('Ten', 'QUANTITY'), ('candies', 'PRODUCT')]\n",
            "\n",
            "TEXT: Im intereseted in 5 granola bars, how much is it?\n",
            "ENTITIES: [('5', 'QUANTITY'), ('granola', 'PRODUCT')]\n",
            "\n"
          ]
        }
      ]
    }
  ]
}