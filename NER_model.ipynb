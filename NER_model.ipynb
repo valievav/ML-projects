{
  "nbformat": 4,
  "nbformat_minor": 0,
  "metadata": {
    "colab": {
      "provenance": [],
      "authorship_tag": "ABX9TyPn45ENoPP09tJAErfajDyX",
      "include_colab_link": true
    },
    "kernelspec": {
      "name": "python3",
      "display_name": "Python 3"
    },
    "language_info": {
      "name": "python"
    }
  },
  "cells": [
    {
      "cell_type": "markdown",
      "metadata": {
        "id": "view-in-github",
        "colab_type": "text"
      },
      "source": [
        "<a href=\"https://colab.research.google.com/github/valievav/ML-projects/blob/main/NER_model.ipynb\" target=\"_parent\"><img src=\"https://colab.research.google.com/assets/colab-badge.svg\" alt=\"Open In Colab\"/></a>"
      ]
    },
    {
      "cell_type": "code",
      "execution_count": 1,
      "metadata": {
        "colab": {
          "base_uri": "https://localhost:8080/"
        },
        "id": "j1ZJQO-WN-bl",
        "outputId": "b49e9811-77e9-4183-e1fc-d4a0ea1426e7"
      },
      "outputs": [
        {
          "output_type": "stream",
          "name": "stdout",
          "text": [
            "Requirement already satisfied: spacy in /usr/local/lib/python3.11/dist-packages (3.7.5)\n",
            "Requirement already satisfied: spacy-legacy<3.1.0,>=3.0.11 in /usr/local/lib/python3.11/dist-packages (from spacy) (3.0.12)\n",
            "Requirement already satisfied: spacy-loggers<2.0.0,>=1.0.0 in /usr/local/lib/python3.11/dist-packages (from spacy) (1.0.5)\n",
            "Requirement already satisfied: murmurhash<1.1.0,>=0.28.0 in /usr/local/lib/python3.11/dist-packages (from spacy) (1.0.12)\n",
            "Requirement already satisfied: cymem<2.1.0,>=2.0.2 in /usr/local/lib/python3.11/dist-packages (from spacy) (2.0.11)\n",
            "Requirement already satisfied: preshed<3.1.0,>=3.0.2 in /usr/local/lib/python3.11/dist-packages (from spacy) (3.0.9)\n",
            "Requirement already satisfied: thinc<8.3.0,>=8.2.2 in /usr/local/lib/python3.11/dist-packages (from spacy) (8.2.5)\n",
            "Requirement already satisfied: wasabi<1.2.0,>=0.9.1 in /usr/local/lib/python3.11/dist-packages (from spacy) (1.1.3)\n",
            "Requirement already satisfied: srsly<3.0.0,>=2.4.3 in /usr/local/lib/python3.11/dist-packages (from spacy) (2.5.1)\n",
            "Requirement already satisfied: catalogue<2.1.0,>=2.0.6 in /usr/local/lib/python3.11/dist-packages (from spacy) (2.0.10)\n",
            "Requirement already satisfied: weasel<0.5.0,>=0.1.0 in /usr/local/lib/python3.11/dist-packages (from spacy) (0.4.1)\n",
            "Requirement already satisfied: typer<1.0.0,>=0.3.0 in /usr/local/lib/python3.11/dist-packages (from spacy) (0.15.1)\n",
            "Requirement already satisfied: tqdm<5.0.0,>=4.38.0 in /usr/local/lib/python3.11/dist-packages (from spacy) (4.67.1)\n",
            "Requirement already satisfied: requests<3.0.0,>=2.13.0 in /usr/local/lib/python3.11/dist-packages (from spacy) (2.32.3)\n",
            "Requirement already satisfied: pydantic!=1.8,!=1.8.1,<3.0.0,>=1.7.4 in /usr/local/lib/python3.11/dist-packages (from spacy) (2.10.6)\n",
            "Requirement already satisfied: jinja2 in /usr/local/lib/python3.11/dist-packages (from spacy) (3.1.5)\n",
            "Requirement already satisfied: setuptools in /usr/local/lib/python3.11/dist-packages (from spacy) (75.1.0)\n",
            "Requirement already satisfied: packaging>=20.0 in /usr/local/lib/python3.11/dist-packages (from spacy) (24.2)\n",
            "Requirement already satisfied: langcodes<4.0.0,>=3.2.0 in /usr/local/lib/python3.11/dist-packages (from spacy) (3.5.0)\n",
            "Requirement already satisfied: numpy>=1.19.0 in /usr/local/lib/python3.11/dist-packages (from spacy) (1.26.4)\n",
            "Requirement already satisfied: language-data>=1.2 in /usr/local/lib/python3.11/dist-packages (from langcodes<4.0.0,>=3.2.0->spacy) (1.3.0)\n",
            "Requirement already satisfied: annotated-types>=0.6.0 in /usr/local/lib/python3.11/dist-packages (from pydantic!=1.8,!=1.8.1,<3.0.0,>=1.7.4->spacy) (0.7.0)\n",
            "Requirement already satisfied: pydantic-core==2.27.2 in /usr/local/lib/python3.11/dist-packages (from pydantic!=1.8,!=1.8.1,<3.0.0,>=1.7.4->spacy) (2.27.2)\n",
            "Requirement already satisfied: typing-extensions>=4.12.2 in /usr/local/lib/python3.11/dist-packages (from pydantic!=1.8,!=1.8.1,<3.0.0,>=1.7.4->spacy) (4.12.2)\n",
            "Requirement already satisfied: charset-normalizer<4,>=2 in /usr/local/lib/python3.11/dist-packages (from requests<3.0.0,>=2.13.0->spacy) (3.4.1)\n",
            "Requirement already satisfied: idna<4,>=2.5 in /usr/local/lib/python3.11/dist-packages (from requests<3.0.0,>=2.13.0->spacy) (3.10)\n",
            "Requirement already satisfied: urllib3<3,>=1.21.1 in /usr/local/lib/python3.11/dist-packages (from requests<3.0.0,>=2.13.0->spacy) (2.3.0)\n",
            "Requirement already satisfied: certifi>=2017.4.17 in /usr/local/lib/python3.11/dist-packages (from requests<3.0.0,>=2.13.0->spacy) (2025.1.31)\n",
            "Requirement already satisfied: blis<0.8.0,>=0.7.8 in /usr/local/lib/python3.11/dist-packages (from thinc<8.3.0,>=8.2.2->spacy) (0.7.11)\n",
            "Requirement already satisfied: confection<1.0.0,>=0.0.1 in /usr/local/lib/python3.11/dist-packages (from thinc<8.3.0,>=8.2.2->spacy) (0.1.5)\n",
            "Requirement already satisfied: click>=8.0.0 in /usr/local/lib/python3.11/dist-packages (from typer<1.0.0,>=0.3.0->spacy) (8.1.8)\n",
            "Requirement already satisfied: shellingham>=1.3.0 in /usr/local/lib/python3.11/dist-packages (from typer<1.0.0,>=0.3.0->spacy) (1.5.4)\n",
            "Requirement already satisfied: rich>=10.11.0 in /usr/local/lib/python3.11/dist-packages (from typer<1.0.0,>=0.3.0->spacy) (13.9.4)\n",
            "Requirement already satisfied: cloudpathlib<1.0.0,>=0.7.0 in /usr/local/lib/python3.11/dist-packages (from weasel<0.5.0,>=0.1.0->spacy) (0.20.0)\n",
            "Requirement already satisfied: smart-open<8.0.0,>=5.2.1 in /usr/local/lib/python3.11/dist-packages (from weasel<0.5.0,>=0.1.0->spacy) (7.1.0)\n",
            "Requirement already satisfied: MarkupSafe>=2.0 in /usr/local/lib/python3.11/dist-packages (from jinja2->spacy) (3.0.2)\n",
            "Requirement already satisfied: marisa-trie>=1.1.0 in /usr/local/lib/python3.11/dist-packages (from language-data>=1.2->langcodes<4.0.0,>=3.2.0->spacy) (1.2.1)\n",
            "Requirement already satisfied: markdown-it-py>=2.2.0 in /usr/local/lib/python3.11/dist-packages (from rich>=10.11.0->typer<1.0.0,>=0.3.0->spacy) (3.0.0)\n",
            "Requirement already satisfied: pygments<3.0.0,>=2.13.0 in /usr/local/lib/python3.11/dist-packages (from rich>=10.11.0->typer<1.0.0,>=0.3.0->spacy) (2.18.0)\n",
            "Requirement already satisfied: wrapt in /usr/local/lib/python3.11/dist-packages (from smart-open<8.0.0,>=5.2.1->weasel<0.5.0,>=0.1.0->spacy) (1.17.2)\n",
            "Requirement already satisfied: mdurl~=0.1 in /usr/local/lib/python3.11/dist-packages (from markdown-it-py>=2.2.0->rich>=10.11.0->typer<1.0.0,>=0.3.0->spacy) (0.1.2)\n"
          ]
        }
      ],
      "source": [
        "!pip install spacy"
      ]
    },
    {
      "cell_type": "code",
      "source": [
        "# download model\n",
        "!python -m spacy download en_core_web_md"
      ],
      "metadata": {
        "colab": {
          "base_uri": "https://localhost:8080/"
        },
        "id": "n9ZA7rDSX8H6",
        "outputId": "00f4e6f2-3e20-4514-b4af-1af02dfbef7a"
      },
      "execution_count": 2,
      "outputs": [
        {
          "output_type": "stream",
          "name": "stdout",
          "text": [
            "Collecting en-core-web-md==3.7.1\n",
            "  Downloading https://github.com/explosion/spacy-models/releases/download/en_core_web_md-3.7.1/en_core_web_md-3.7.1-py3-none-any.whl (42.8 MB)\n",
            "\u001b[2K     \u001b[90m━━━━━━━━━━━━━━━━━━━━━━━━━━━━━━━━━━━━━━━━\u001b[0m \u001b[32m42.8/42.8 MB\u001b[0m \u001b[31m14.7 MB/s\u001b[0m eta \u001b[36m0:00:00\u001b[0m\n",
            "\u001b[?25hRequirement already satisfied: spacy<3.8.0,>=3.7.2 in /usr/local/lib/python3.11/dist-packages (from en-core-web-md==3.7.1) (3.7.5)\n",
            "Requirement already satisfied: spacy-legacy<3.1.0,>=3.0.11 in /usr/local/lib/python3.11/dist-packages (from spacy<3.8.0,>=3.7.2->en-core-web-md==3.7.1) (3.0.12)\n",
            "Requirement already satisfied: spacy-loggers<2.0.0,>=1.0.0 in /usr/local/lib/python3.11/dist-packages (from spacy<3.8.0,>=3.7.2->en-core-web-md==3.7.1) (1.0.5)\n",
            "Requirement already satisfied: murmurhash<1.1.0,>=0.28.0 in /usr/local/lib/python3.11/dist-packages (from spacy<3.8.0,>=3.7.2->en-core-web-md==3.7.1) (1.0.12)\n",
            "Requirement already satisfied: cymem<2.1.0,>=2.0.2 in /usr/local/lib/python3.11/dist-packages (from spacy<3.8.0,>=3.7.2->en-core-web-md==3.7.1) (2.0.11)\n",
            "Requirement already satisfied: preshed<3.1.0,>=3.0.2 in /usr/local/lib/python3.11/dist-packages (from spacy<3.8.0,>=3.7.2->en-core-web-md==3.7.1) (3.0.9)\n",
            "Requirement already satisfied: thinc<8.3.0,>=8.2.2 in /usr/local/lib/python3.11/dist-packages (from spacy<3.8.0,>=3.7.2->en-core-web-md==3.7.1) (8.2.5)\n",
            "Requirement already satisfied: wasabi<1.2.0,>=0.9.1 in /usr/local/lib/python3.11/dist-packages (from spacy<3.8.0,>=3.7.2->en-core-web-md==3.7.1) (1.1.3)\n",
            "Requirement already satisfied: srsly<3.0.0,>=2.4.3 in /usr/local/lib/python3.11/dist-packages (from spacy<3.8.0,>=3.7.2->en-core-web-md==3.7.1) (2.5.1)\n",
            "Requirement already satisfied: catalogue<2.1.0,>=2.0.6 in /usr/local/lib/python3.11/dist-packages (from spacy<3.8.0,>=3.7.2->en-core-web-md==3.7.1) (2.0.10)\n",
            "Requirement already satisfied: weasel<0.5.0,>=0.1.0 in /usr/local/lib/python3.11/dist-packages (from spacy<3.8.0,>=3.7.2->en-core-web-md==3.7.1) (0.4.1)\n",
            "Requirement already satisfied: typer<1.0.0,>=0.3.0 in /usr/local/lib/python3.11/dist-packages (from spacy<3.8.0,>=3.7.2->en-core-web-md==3.7.1) (0.15.1)\n",
            "Requirement already satisfied: tqdm<5.0.0,>=4.38.0 in /usr/local/lib/python3.11/dist-packages (from spacy<3.8.0,>=3.7.2->en-core-web-md==3.7.1) (4.67.1)\n",
            "Requirement already satisfied: requests<3.0.0,>=2.13.0 in /usr/local/lib/python3.11/dist-packages (from spacy<3.8.0,>=3.7.2->en-core-web-md==3.7.1) (2.32.3)\n",
            "Requirement already satisfied: pydantic!=1.8,!=1.8.1,<3.0.0,>=1.7.4 in /usr/local/lib/python3.11/dist-packages (from spacy<3.8.0,>=3.7.2->en-core-web-md==3.7.1) (2.10.6)\n",
            "Requirement already satisfied: jinja2 in /usr/local/lib/python3.11/dist-packages (from spacy<3.8.0,>=3.7.2->en-core-web-md==3.7.1) (3.1.5)\n",
            "Requirement already satisfied: setuptools in /usr/local/lib/python3.11/dist-packages (from spacy<3.8.0,>=3.7.2->en-core-web-md==3.7.1) (75.1.0)\n",
            "Requirement already satisfied: packaging>=20.0 in /usr/local/lib/python3.11/dist-packages (from spacy<3.8.0,>=3.7.2->en-core-web-md==3.7.1) (24.2)\n",
            "Requirement already satisfied: langcodes<4.0.0,>=3.2.0 in /usr/local/lib/python3.11/dist-packages (from spacy<3.8.0,>=3.7.2->en-core-web-md==3.7.1) (3.5.0)\n",
            "Requirement already satisfied: numpy>=1.19.0 in /usr/local/lib/python3.11/dist-packages (from spacy<3.8.0,>=3.7.2->en-core-web-md==3.7.1) (1.26.4)\n",
            "Requirement already satisfied: language-data>=1.2 in /usr/local/lib/python3.11/dist-packages (from langcodes<4.0.0,>=3.2.0->spacy<3.8.0,>=3.7.2->en-core-web-md==3.7.1) (1.3.0)\n",
            "Requirement already satisfied: annotated-types>=0.6.0 in /usr/local/lib/python3.11/dist-packages (from pydantic!=1.8,!=1.8.1,<3.0.0,>=1.7.4->spacy<3.8.0,>=3.7.2->en-core-web-md==3.7.1) (0.7.0)\n",
            "Requirement already satisfied: pydantic-core==2.27.2 in /usr/local/lib/python3.11/dist-packages (from pydantic!=1.8,!=1.8.1,<3.0.0,>=1.7.4->spacy<3.8.0,>=3.7.2->en-core-web-md==3.7.1) (2.27.2)\n",
            "Requirement already satisfied: typing-extensions>=4.12.2 in /usr/local/lib/python3.11/dist-packages (from pydantic!=1.8,!=1.8.1,<3.0.0,>=1.7.4->spacy<3.8.0,>=3.7.2->en-core-web-md==3.7.1) (4.12.2)\n",
            "Requirement already satisfied: charset-normalizer<4,>=2 in /usr/local/lib/python3.11/dist-packages (from requests<3.0.0,>=2.13.0->spacy<3.8.0,>=3.7.2->en-core-web-md==3.7.1) (3.4.1)\n",
            "Requirement already satisfied: idna<4,>=2.5 in /usr/local/lib/python3.11/dist-packages (from requests<3.0.0,>=2.13.0->spacy<3.8.0,>=3.7.2->en-core-web-md==3.7.1) (3.10)\n",
            "Requirement already satisfied: urllib3<3,>=1.21.1 in /usr/local/lib/python3.11/dist-packages (from requests<3.0.0,>=2.13.0->spacy<3.8.0,>=3.7.2->en-core-web-md==3.7.1) (2.3.0)\n",
            "Requirement already satisfied: certifi>=2017.4.17 in /usr/local/lib/python3.11/dist-packages (from requests<3.0.0,>=2.13.0->spacy<3.8.0,>=3.7.2->en-core-web-md==3.7.1) (2025.1.31)\n",
            "Requirement already satisfied: blis<0.8.0,>=0.7.8 in /usr/local/lib/python3.11/dist-packages (from thinc<8.3.0,>=8.2.2->spacy<3.8.0,>=3.7.2->en-core-web-md==3.7.1) (0.7.11)\n",
            "Requirement already satisfied: confection<1.0.0,>=0.0.1 in /usr/local/lib/python3.11/dist-packages (from thinc<8.3.0,>=8.2.2->spacy<3.8.0,>=3.7.2->en-core-web-md==3.7.1) (0.1.5)\n",
            "Requirement already satisfied: click>=8.0.0 in /usr/local/lib/python3.11/dist-packages (from typer<1.0.0,>=0.3.0->spacy<3.8.0,>=3.7.2->en-core-web-md==3.7.1) (8.1.8)\n",
            "Requirement already satisfied: shellingham>=1.3.0 in /usr/local/lib/python3.11/dist-packages (from typer<1.0.0,>=0.3.0->spacy<3.8.0,>=3.7.2->en-core-web-md==3.7.1) (1.5.4)\n",
            "Requirement already satisfied: rich>=10.11.0 in /usr/local/lib/python3.11/dist-packages (from typer<1.0.0,>=0.3.0->spacy<3.8.0,>=3.7.2->en-core-web-md==3.7.1) (13.9.4)\n",
            "Requirement already satisfied: cloudpathlib<1.0.0,>=0.7.0 in /usr/local/lib/python3.11/dist-packages (from weasel<0.5.0,>=0.1.0->spacy<3.8.0,>=3.7.2->en-core-web-md==3.7.1) (0.20.0)\n",
            "Requirement already satisfied: smart-open<8.0.0,>=5.2.1 in /usr/local/lib/python3.11/dist-packages (from weasel<0.5.0,>=0.1.0->spacy<3.8.0,>=3.7.2->en-core-web-md==3.7.1) (7.1.0)\n",
            "Requirement already satisfied: MarkupSafe>=2.0 in /usr/local/lib/python3.11/dist-packages (from jinja2->spacy<3.8.0,>=3.7.2->en-core-web-md==3.7.1) (3.0.2)\n",
            "Requirement already satisfied: marisa-trie>=1.1.0 in /usr/local/lib/python3.11/dist-packages (from language-data>=1.2->langcodes<4.0.0,>=3.2.0->spacy<3.8.0,>=3.7.2->en-core-web-md==3.7.1) (1.2.1)\n",
            "Requirement already satisfied: markdown-it-py>=2.2.0 in /usr/local/lib/python3.11/dist-packages (from rich>=10.11.0->typer<1.0.0,>=0.3.0->spacy<3.8.0,>=3.7.2->en-core-web-md==3.7.1) (3.0.0)\n",
            "Requirement already satisfied: pygments<3.0.0,>=2.13.0 in /usr/local/lib/python3.11/dist-packages (from rich>=10.11.0->typer<1.0.0,>=0.3.0->spacy<3.8.0,>=3.7.2->en-core-web-md==3.7.1) (2.18.0)\n",
            "Requirement already satisfied: wrapt in /usr/local/lib/python3.11/dist-packages (from smart-open<8.0.0,>=5.2.1->weasel<0.5.0,>=0.1.0->spacy<3.8.0,>=3.7.2->en-core-web-md==3.7.1) (1.17.2)\n",
            "Requirement already satisfied: mdurl~=0.1 in /usr/local/lib/python3.11/dist-packages (from markdown-it-py>=2.2.0->rich>=10.11.0->typer<1.0.0,>=0.3.0->spacy<3.8.0,>=3.7.2->en-core-web-md==3.7.1) (0.1.2)\n",
            "\u001b[38;5;2m✔ Download and installation successful\u001b[0m\n",
            "You can now load the package via spacy.load('en_core_web_md')\n",
            "\u001b[38;5;3m⚠ Restart to reload dependencies\u001b[0m\n",
            "If you are in a Jupyter or Colab notebook, you may need to restart Python in\n",
            "order to load all the package's dependencies. You can do this by selecting the\n",
            "'Restart kernel' or 'Restart runtime' option.\n"
          ]
        }
      ]
    },
    {
      "cell_type": "code",
      "source": [
        "!pip install spacy-lookups-data"
      ],
      "metadata": {
        "colab": {
          "base_uri": "https://localhost:8080/"
        },
        "id": "B1UviWE9jisc",
        "outputId": "fa817ed7-d116-477d-9c2d-37fd2c3b3103"
      },
      "execution_count": 3,
      "outputs": [
        {
          "output_type": "stream",
          "name": "stdout",
          "text": [
            "Requirement already satisfied: spacy-lookups-data in /usr/local/lib/python3.11/dist-packages (1.0.5)\n",
            "Requirement already satisfied: setuptools in /usr/local/lib/python3.11/dist-packages (from spacy-lookups-data) (75.1.0)\n"
          ]
        }
      ]
    },
    {
      "cell_type": "code",
      "source": [
        "# JIz-hiRrZ2g&t=18s\n",
        "\n",
        "import spacy"
      ],
      "metadata": {
        "id": "giVJNLU_bYn9"
      },
      "execution_count": 4,
      "outputs": []
    },
    {
      "cell_type": "markdown",
      "source": [
        "# Check NER model results on test data"
      ],
      "metadata": {
        "id": "Ot2KS4hsgmWi"
      }
    },
    {
      "cell_type": "code",
      "source": [
        "text = [\n",
        "    'Nessa lives in Kyiv',\n",
        "    'Chris Cornell was part of the Soundgarden before Audioslave',\n",
        "    'Sakura blossoms in Japan in spring',\n",
        "    'OpenAI released CharGPT Pro version in December 2024',\n",
        "    'Lia speaks both Ukrainian and English',\n",
        "    'R2D2 can only communicate in Binary',\n",
        "]\n",
        "\n",
        "# use existing model\n",
        "nlp = spacy.load('en_core_web_md')\n",
        "\n",
        "# get entities that can be recognized\n",
        "ner_labels = nlp.get_pipe('ner').labels\n",
        "ner_labels"
      ],
      "metadata": {
        "colab": {
          "base_uri": "https://localhost:8080/"
        },
        "id": "AMJEI5SrOCmu",
        "outputId": "77d001fc-75da-4c42-966a-30038c2cfdb8"
      },
      "execution_count": 5,
      "outputs": [
        {
          "output_type": "execute_result",
          "data": {
            "text/plain": [
              "('CARDINAL',\n",
              " 'DATE',\n",
              " 'EVENT',\n",
              " 'FAC',\n",
              " 'GPE',\n",
              " 'LANGUAGE',\n",
              " 'LAW',\n",
              " 'LOC',\n",
              " 'MONEY',\n",
              " 'NORP',\n",
              " 'ORDINAL',\n",
              " 'ORG',\n",
              " 'PERCENT',\n",
              " 'PERSON',\n",
              " 'PRODUCT',\n",
              " 'QUANTITY',\n",
              " 'TIME',\n",
              " 'WORK_OF_ART')"
            ]
          },
          "metadata": {},
          "execution_count": 5
        }
      ]
    },
    {
      "cell_type": "code",
      "source": [
        "docs = [nlp(x) for x in text]\n",
        "\n",
        "for doc in docs:\n",
        "  entities = []\n",
        "  for ent in doc.ents:\n",
        "    entities.append([ent.text, ent.label_])\n",
        "\n",
        "  print(entities)\n"
      ],
      "metadata": {
        "colab": {
          "base_uri": "https://localhost:8080/"
        },
        "id": "jreEGmc3YteX",
        "outputId": "c7cb1374-b9ff-4b55-a1da-88c718fe8973"
      },
      "execution_count": 6,
      "outputs": [
        {
          "output_type": "stream",
          "name": "stdout",
          "text": [
            "[['Nessa', 'PERSON'], ['Kyiv', 'GPE']]\n",
            "[['Chris Cornell', 'PERSON'], ['the Soundgarden before Audioslave', 'GPE']]\n",
            "[['Sakura', 'PERSON'], ['Japan', 'GPE'], ['spring', 'DATE']]\n",
            "[['CharGPT Pro', 'PRODUCT'], ['December 2024', 'DATE']]\n",
            "[['Lia', 'PERSON'], ['Ukrainian', 'NORP'], ['English', 'LANGUAGE']]\n",
            "[]\n"
          ]
        }
      ]
    },
    {
      "cell_type": "markdown",
      "source": [
        "# Fine-tune existing NER model on custom data"
      ],
      "metadata": {
        "id": "nzGl-fJ7gefy"
      }
    },
    {
      "cell_type": "code",
      "source": [
        "import random\n",
        "from spacy.util import minibatch\n",
        "from spacy.training.example import Example\n",
        "\n",
        "train_data = [\n",
        "    ('What is the price of 10 bananas?', {'entities': [(21, 23, 'QUANTITY'), (24, 31, 'PRODUCT')]}),\n",
        "    ('How much does 5 apples cost?', {'entities': [(15, 16, 'QUANTITY'), (17, 23, 'PRODUCT')]}),\n",
        "    ('Can you tell me the price of 2 oranges?', {'entities': [(29, 30, 'QUANTITY'), (31, 38, 'PRODUCT')]}),\n",
        "    ('I want to buy 1 watermelon. How much is it?', {'entities': [(14, 15, 'QUANTITY'), (16, 26, 'PRODUCT')]}),\n",
        "    ('What would 3 pineapples cost?', {'entities': [(11, 12, 'QUANTITY'), (13, 23, 'PRODUCT')]}),\n",
        "    ('Give me the price for 12 mangoes.', {'entities': [(21, 23, 'QUANTITY'), (24, 31, 'PRODUCT')]}),\n",
        "    ('How much for 8 avocados?', {'entities': [(13, 14, 'QUANTITY'), (15, 23, 'PRODUCT')]}),\n",
        "    ('I need the cost of 6 lemons.', {'entities': [(19, 20, 'QUANTITY'), (21, 27, 'PRODUCT')]}),\n",
        "    ('Could you tell me how much 4 pears are?', {'entities': [(26, 27, 'QUANTITY'), (28, 33, 'PRODUCT')]}),\n",
        "    ('Price check on 7 strawberries please.', {'entities': [(14, 15, 'QUANTITY'), (16, 28, 'PRODUCT')]}),\n",
        "    ('How much would 9 peaches be?', {'entities': [(15, 16, 'QUANTITY'), (17, 24, 'PRODUCT')]}),\n",
        "    ('What’s the rate of 11 grapes?', {'entities': [(19, 21, 'QUANTITY'), (22, 28, 'PRODUCT')]}),\n",
        "    ('Can I know the price of 3 cherries?', {'entities': [(25, 26, 'QUANTITY'), (27, 35, 'PRODUCT')]}),\n",
        "    ('How expensive are 13 blueberries?', {'entities': [(18, 20, 'QUANTITY'), (21, 32, 'PRODUCT')]}),\n",
        "    ('Do you know the cost of 2 melons?', {'entities': [(24, 25, 'QUANTITY'), (26, 32, 'PRODUCT')]}),\n",
        "    ('Please tell me the price of 5 plums.', {'entities': [(28, 29, 'QUANTITY'), (30, 35, 'PRODUCT')]}),\n",
        "    ('How much is 14 kiwis?', {'entities': [(12, 14, 'QUANTITY'), (15, 20, 'PRODUCT')]}),\n",
        "    ('What’s the total for 6 papayas?', {'entities': [(18, 19, 'QUANTITY'), (20, 27, 'PRODUCT')]}),\n",
        "    ('I’d like the price of 1 coconut.', {'entities': [(22, 23, 'QUANTITY'), (24, 31, 'PRODUCT')]}),\n",
        "    ('Tell me how much 10 apricots cost.', {'entities': [(18, 20, 'QUANTITY'), (21, 29, 'PRODUCT')]}),\n",
        "]\n",
        "\n",
        "nlp.pipe_names"
      ],
      "metadata": {
        "colab": {
          "base_uri": "https://localhost:8080/"
        },
        "id": "Ny-27YZhYOi1",
        "outputId": "74e52f36-950b-4aa1-d143-b668cbfcb3a5"
      },
      "execution_count": 7,
      "outputs": [
        {
          "output_type": "execute_result",
          "data": {
            "text/plain": [
              "['tok2vec', 'tagger', 'parser', 'attribute_ruler', 'lemmatizer', 'ner']"
            ]
          },
          "metadata": {},
          "execution_count": 7
        }
      ]
    },
    {
      "cell_type": "code",
      "source": [
        "# use existing model\n",
        "nlp = spacy.load('en_core_web_md')\n",
        "\n",
        "# make sure ner pipeline is in the model\n",
        "if 'ner' not in nlp.pipe_names:\n",
        "  ner = nlp.add_pipe('ner')\n",
        "else:\n",
        "  ner = nlp.get_pipe('ner')\n",
        "\n",
        "# add unknown labels to the model\n",
        "for _, ent_data in train_data:\n",
        "  for ent in ent_data['entities']:\n",
        "    label = ent[2]\n",
        "    if label not in ner.labels:\n",
        "      ner.add_label[label]\n",
        "\n",
        "# disable all pipelines but ner and train it\n",
        "epochs = 50\n",
        "other_pipes = [pipe for pipe in nlp.pipe_names if pipe != 'ner']\n",
        "\n",
        "with nlp.disable_pipes(*other_pipes):\n",
        "  # optimizer = nlp.begin_training()  # training a new blank model\n",
        "  optimizer = nlp.create_optimizer()  # fine-tuning already trained model\n",
        "\n",
        "  for epoch in range(epochs):\n",
        "    random.shuffle(train_data)\n",
        "    losses = {}\n",
        "    batches = minibatch(train_data, size=2)\n",
        "    for batch in batches:\n",
        "      examples = []\n",
        "      for text, ent_data in batch:\n",
        "        doc = nlp.make_doc(text)\n",
        "        example = Example.from_dict(doc, ent_data)\n",
        "        examples.append(example)\n",
        "      nlp.update(examples, drop=0.5, losses=losses)\n",
        "    print(f'Epoch {epoch + 1}, losses {losses}')\n",
        "\n",
        "# save model\n",
        "nlp.to_disk('custom_ner_model')\n",
        "\n",
        "trained_nlp = spacy.load('custom_ner_model')\n",
        "\n",
        "test_text = [\n",
        "    'How much for five avocados?',\n",
        "    'Ten candies please, what''s the price?',\n",
        "    'I''m intereseted in 5 granola bars, how much is it?',\n",
        "]\n",
        "\n",
        "for text in test_text:\n",
        "  doc = trained_nlp(text)\n",
        "  print(f'Text {text}')\n",
        "  print(f'Entities {[(ent.text, ent.label_) for ent in doc.ents]}')\n",
        "  print('---')"
      ],
      "metadata": {
        "colab": {
          "base_uri": "https://localhost:8080/"
        },
        "id": "dU6M2L5sdj8p",
        "outputId": "1311a35c-a326-4d2a-d584-86f785389874"
      },
      "execution_count": 8,
      "outputs": [
        {
          "output_type": "stream",
          "name": "stderr",
          "text": [
            "/usr/local/lib/python3.11/dist-packages/spacy/training/iob_utils.py:149: UserWarning: [W030] Some entities could not be aligned in the text \"Give me the price for 12 mangoes.\" with entities \"[(21, 23, 'QUANTITY'), (24, 31, 'PRODUCT')]\". Use `spacy.training.offsets_to_biluo_tags(nlp.make_doc(text), entities)` to check the alignment. Misaligned entities ('-') will be ignored during training.\n",
            "  warnings.warn(\n",
            "/usr/local/lib/python3.11/dist-packages/spacy/training/iob_utils.py:149: UserWarning: [W030] Some entities could not be aligned in the text \"Could you tell me how much 4 pears are?\" with entities \"[(26, 27, 'QUANTITY'), (28, 33, 'PRODUCT')]\". Use `spacy.training.offsets_to_biluo_tags(nlp.make_doc(text), entities)` to check the alignment. Misaligned entities ('-') will be ignored during training.\n",
            "  warnings.warn(\n",
            "/usr/local/lib/python3.11/dist-packages/spacy/training/iob_utils.py:149: UserWarning: [W030] Some entities could not be aligned in the text \"Can I know the price of 3 cherries?\" with entities \"[(25, 26, 'QUANTITY'), (27, 35, 'PRODUCT')]\". Use `spacy.training.offsets_to_biluo_tags(nlp.make_doc(text), entities)` to check the alignment. Misaligned entities ('-') will be ignored during training.\n",
            "  warnings.warn(\n",
            "/usr/local/lib/python3.11/dist-packages/spacy/training/iob_utils.py:149: UserWarning: [W030] Some entities could not be aligned in the text \"How much does 5 apples cost?\" with entities \"[(15, 16, 'QUANTITY'), (17, 23, 'PRODUCT')]\". Use `spacy.training.offsets_to_biluo_tags(nlp.make_doc(text), entities)` to check the alignment. Misaligned entities ('-') will be ignored during training.\n",
            "  warnings.warn(\n",
            "/usr/local/lib/python3.11/dist-packages/spacy/training/iob_utils.py:149: UserWarning: [W030] Some entities could not be aligned in the text \"Tell me how much 10 apricots cost.\" with entities \"[(18, 20, 'QUANTITY'), (21, 29, 'PRODUCT')]\". Use `spacy.training.offsets_to_biluo_tags(nlp.make_doc(text), entities)` to check the alignment. Misaligned entities ('-') will be ignored during training.\n",
            "  warnings.warn(\n",
            "/usr/local/lib/python3.11/dist-packages/spacy/training/iob_utils.py:149: UserWarning: [W030] Some entities could not be aligned in the text \"Price check on 7 strawberries please.\" with entities \"[(14, 15, 'QUANTITY'), (16, 28, 'PRODUCT')]\". Use `spacy.training.offsets_to_biluo_tags(nlp.make_doc(text), entities)` to check the alignment. Misaligned entities ('-') will be ignored during training.\n",
            "  warnings.warn(\n",
            "/usr/local/lib/python3.11/dist-packages/spacy/training/iob_utils.py:149: UserWarning: [W030] Some entities could not be aligned in the text \"What’s the total for 6 papayas?\" with entities \"[(18, 19, 'QUANTITY'), (20, 27, 'PRODUCT')]\". Use `spacy.training.offsets_to_biluo_tags(nlp.make_doc(text), entities)` to check the alignment. Misaligned entities ('-') will be ignored during training.\n",
            "  warnings.warn(\n"
          ]
        },
        {
          "output_type": "stream",
          "name": "stdout",
          "text": [
            "Epoch 1, losses {'ner': 47.46584997915339}\n",
            "Epoch 2, losses {'ner': 39.21012109524224}\n",
            "Epoch 3, losses {'ner': 19.989931263672013}\n",
            "Epoch 4, losses {'ner': 6.828884455976867}\n",
            "Epoch 5, losses {'ner': 8.851253650917455}\n",
            "Epoch 6, losses {'ner': 6.477666019772375}\n",
            "Epoch 7, losses {'ner': 6.211562203178126}\n",
            "Epoch 8, losses {'ner': 7.979154751915947}\n",
            "Epoch 9, losses {'ner': 9.690073171735792}\n",
            "Epoch 10, losses {'ner': 3.9692885197029812}\n",
            "Epoch 11, losses {'ner': 4.007753156503148}\n",
            "Epoch 12, losses {'ner': 3.360966258075799}\n",
            "Epoch 13, losses {'ner': 3.5716328733559704}\n",
            "Epoch 14, losses {'ner': 3.0858315878958402}\n",
            "Epoch 15, losses {'ner': 3.0867949062685596}\n",
            "Epoch 16, losses {'ner': 0.32949128447640313}\n",
            "Epoch 17, losses {'ner': 3.6022165885438047}\n",
            "Epoch 18, losses {'ner': 2.3703260871525793}\n",
            "Epoch 19, losses {'ner': 2.045569788099434}\n",
            "Epoch 20, losses {'ner': 4.821908866691978}\n",
            "Epoch 21, losses {'ner': 4.801777871131605}\n",
            "Epoch 22, losses {'ner': 1.1611619480815376}\n",
            "Epoch 23, losses {'ner': 3.5395323092799993}\n",
            "Epoch 24, losses {'ner': 3.4711904100896316}\n",
            "Epoch 25, losses {'ner': 1.7135681051554288}\n",
            "Epoch 26, losses {'ner': 3.0215464146658317}\n",
            "Epoch 27, losses {'ner': 2.4962439325645103}\n",
            "Epoch 28, losses {'ner': 0.3447063491713924}\n",
            "Epoch 29, losses {'ner': 0.25821166705627785}\n",
            "Epoch 30, losses {'ner': 0.5066922575004393}\n",
            "Epoch 31, losses {'ner': 1.800118780350754}\n",
            "Epoch 32, losses {'ner': 0.1307210740900884}\n",
            "Epoch 33, losses {'ner': 3.839775850737342}\n",
            "Epoch 34, losses {'ner': 3.733885347842369e-05}\n",
            "Epoch 35, losses {'ner': 0.06335123917166803}\n",
            "Epoch 36, losses {'ner': 0.0007537388032165636}\n",
            "Epoch 37, losses {'ner': 2.0820225655691877}\n",
            "Epoch 38, losses {'ner': 0.9426799024049517}\n",
            "Epoch 39, losses {'ner': 2.4478427357761103}\n",
            "Epoch 40, losses {'ner': 2.107181684496644e-06}\n",
            "Epoch 41, losses {'ner': 0.6418402441243131}\n",
            "Epoch 42, losses {'ner': 0.0011060579884664315}\n",
            "Epoch 43, losses {'ner': 0.024664312990741677}\n",
            "Epoch 44, losses {'ner': 0.006925691859179823}\n",
            "Epoch 45, losses {'ner': 1.4140334852560244e-05}\n",
            "Epoch 46, losses {'ner': 0.5402811547060802}\n",
            "Epoch 47, losses {'ner': 8.418824515056966e-06}\n",
            "Epoch 48, losses {'ner': 5.094282681177162e-06}\n",
            "Epoch 49, losses {'ner': 0.00026418276467226443}\n",
            "Epoch 50, losses {'ner': 1.9999649607103143}\n",
            "Text How much for five avocados?\n",
            "Entities [('five', 'QUANTITY'), ('avocados', 'PRODUCT')]\n",
            "---\n",
            "Text Ten candies please, whats the price?\n",
            "Entities [('Ten', 'QUANTITY'), ('candies', 'PRODUCT')]\n",
            "---\n",
            "Text Im intereseted in 5 granola bars, how much is it?\n",
            "Entities [('5', 'QUANTITY'), ('granola', 'PRODUCT')]\n",
            "---\n"
          ]
        }
      ]
    }
  ]
}